{
 "metadata": {
  "language_info": {
   "codemirror_mode": {
    "name": "ipython",
    "version": 3
   },
   "file_extension": ".py",
   "mimetype": "text/x-python",
   "name": "python",
   "nbconvert_exporter": "python",
   "pygments_lexer": "ipython3",
   "version": 3
  },
  "orig_nbformat": 2
 },
 "nbformat": 4,
 "nbformat_minor": 2,
 "cells": [
  {
   "source": [
    "<h1> Laboratorio N 2 </h1\n",
    "\n",
    "Integrantes:\n",
    "\n",
    "    1.\n",
    "\n",
    "    2.\n",
    "\n",
    "    3.\n",
    "    \n",
    "    4.\n",
    "\n",
    "\n",
    "El formato de entrega será subir a u-cursos **un Jupyter notebook\n",
    "Lab_2_apellido_nombre.ipynb por grupo**, donde el nombre y apellido de algun integrante del grupo.\n",
    "El jupyter debe ejecutarse de manera continua sin errores. Todo el código debe estar en el mismo notebook.\n",
    "\n",
    "<h2> Instrucciones </h2>\n",
    "El laboratorio consta de 4 partes y un total de 6 puntos, donde la nota final es el puntaje más un punto base.\n",
    "\n",
    "La asignación de puntaje es la siguiente:\n",
    "\n",
    "    1.  Preguntas conceptuales          1 pto.\n",
    "\n",
    "    2.  Limpieza de datos.              3 ptos.\n",
    "\n",
    "    3.  Transformación de variables.    1 pto.\n",
    "    \n",
    "    4.  Selección de atributos.         1 pto.  \n",
    "\n",
    "\n",
    "<h2> Preguntas conceptuales </h2>\n",
    "\n",
    "0.5 pts cada una.\n",
    "<h5> Pregunta 1 </h5>\n",
    "\n",
    "    1.1. Su grupo está calibrando un modelo de clasificación de fraude para la asignación de un beneficio del gobierno.\n",
    "    \n",
    "     El objetivo de su equipo es poder detectar que aplicaciones al beneficio fueron realizadas por ciudadanos quienes no calificaban para obtener el benedicio, por ende solicitaron el beneficio sin reportar los valores reales para obtener el beneficio.\n",
    "\n",
    "        Un proceso de auditoria por un organismo externo determinó que solicitantes del beneficio para la última entrega fueron entregados a personas que en realidad no calificaban para el beneficio, por lo que tienen los datos para poder armar y entrenar su modelo.\n",
    "\n",
    "        Al armar su modelo se encuentra con los siguientes problemas que va resolviendo según están mencionados:\n",
    "\n",
    "                1.  Su modelo le entrega un error, ya que el paquete solo permite variables de tipo float.\n",
    "\n",
    "                    Soluciona el problema, luego \n",
    "\n",
    "                2.  Logra entrenar su modelo pero el coeficiente de una de sus variables captura la mayoria del poder explicativo de su modelo. Usted sabe que las demás variables también son determinantes en definir el comportamiento de fraude, sin embargo al probar distintas opciones de la función que está usando sigue obteniendo el cooeficiente de esa variable con un valor mucho más grande con respecto al coeficiente de las demás variables.\n",
    "\n",
    "                    Soluciona el problema, luego\n",
    "\n",
    "                3. Logra entrenar su modelo con un mayor grado de precisión ya que arregló el problema anterior, sin embargo, al presentar su resultado al comité evaluador que le pidió que armara el modelo le preguntan por qué el coeficiente de una de sus variables es tan pequeño en relación a las expectativas del comité, ya que para el comité esa variable debería tener mayor relevancia. \n",
    "                    En particular les llama la atención que al estudiar la variable determinó que la varianza de la variable es mucho más alta de lo esperada y prácticamente es casi de la magnitud del rango factible de la variable.\n",
    "\n",
    "                    Soluciona el problema y el comité evaluador queda satisfecho con los resultados.\n",
    "\n",
    "        Comente a juicio de su grupo, que problemas se enfrentó al desarollar el modelo, por qué esto es un problema y cómo lo solucionó el equipo que presentó el modelo.\n",
    "        \n",
    "<h5> Pregunta 1.2 </h5>\n",
    "\n",
    "    1.2.  Una importante consultora del rubro público dentro de sus estudios un informe sobre el desempeño regional sobre la respuesta de cada país frente a la actual pandemia COVID-19. \n",
    "        Una organización extranjera se pone en contacto con el grupo para presentar una versión de la verdad \"alternativa\", el objetivo de la organización es presentar el resultado frente a la respuesta de manera favorable para fortalezer la posición de un candidato a disputar la elección que se realizará en el país dentro del futuro cercano.\n",
    "\n",
    "\n",
    "    A pesar de que le enseñaron a actuar de manera ética en su formación decide ayudar a la organización a presentar de manera favorable el resultado en el país. Sin embargo, su conciencia le impide inventar datos ya que sería muy fácil de detectar además de tener un dilema ético.\n",
    "\n",
    "\n",
    "    Sabe que las localidades de menos recursos dentro del país decidieron diagnosticar el COVID mediante imágenes de rayos-x en lugar de hacer un test de laboratorio como se hizo en el resto del país. La preparación de los centros de salud en estas localidades fue escasa y por ende resultó en una tasa de fatalidad mucho mayor a la del resto del país.\n",
    "\n",
    "\n",
    "    Al registrar y reportar los datos estas localidades decidieron no clasificarlos como pacientes covid sino que una variable adicional <i> enfermedad pulmonar pandemica por imagenes </i>, al ser localidades remotas estas no representan la mayoría de los casos, sin embargo los resultados son muy malos comparados con el resto del país.\n",
    "\n",
    "\n",
    "    Determine que acción va a realizar con los datos para poder presentar el actuar del organismo de salud de manera más favorable respetando el deseo de su conciencia donde no puede reemplazar información existente por valores falsos.\n",
    "\n",
    "\n",
    "\n",
    "    Explique por qué esta acción no es una representación honesta de los datos y que argumentos debería ocupar la oposición del país donde está haciendo su trabajo, para establecer una versión más cercana a la realidad frente a la opinión pública."
   ],
   "cell_type": "markdown",
   "metadata": {}
  },
  {
   "source": [
    "<h3> Respuestas preguntas conceptuales </h3> \n",
    "(1 pto)\n",
    "\n",
    "<h4> Pregunta 1.1 </h4>"
   ],
   "cell_type": "markdown",
   "metadata": {}
  },
  {
   "source": [],
   "cell_type": "markdown",
   "metadata": {}
  },
  {
   "source": [
    "<h4> Pregunta 1.2 </h4>"
   ],
   "cell_type": "markdown",
   "metadata": {}
  },
  {
   "source": [],
   "cell_type": "markdown",
   "metadata": {}
  },
  {
   "source": [
    "import pandas as pd"
   ],
   "cell_type": "code",
   "metadata": {},
   "execution_count": null,
   "outputs": []
  },
  {
   "source": [
    "electric = pd.read_csv()"
   ],
   "cell_type": "code",
   "metadata": {},
   "execution_count": null,
   "outputs": []
  },
  {
   "source": [
    "<h3> Pregunta 2 </h3>\n",
    "\n",
    "(3 pts)\n",
    "\n",
    "Para esta pregunta debe utilizar la tabla <i> sfo </i> cargada anteriormente\n",
    "\n",
    "    1.  Determine que columnas tienen datos faltantes y cuantos datos faltantes tienen (0.2 pts)\n",
    "\n",
    "    2.  Impute dos variables por algún valor fijo que le pareza dentro del rango de la variable. \n",
    "    \n",
    "        Muestre la distribución de la variable antes y después de reemplazar los datos faltantes para ambas variables. Comente si debería mantener esta imputación sobre sus datos faltantes justificando el motivo. ( 0.3 pts)\n",
    "\n",
    "    3.  Use algún método con variabilidad sobre los datos imputados para estimar el valor de los datos faltantes de la variable <i> Revised cost </i>, compare el promedio y la distribución de la variable sin considerar los datos faltantes y luego de imputar los datos con variabilidad. Para usar datos de manera agregada (resumida) le parece razonable su metodo de imputación? justificando su respuesta. (1 pto.)\n",
    "\n",
    "Para las siguientes preguntas elimine las filas que tienen un valor faltante para la columna <i> permit slack </i>\n",
    "\n",
    "    4. Determine que variables no debería considerar de los datos de sfo, justifique su respuesta y elimine las variables del de la tabla. (0.5 pts)\n",
    "\n",
    "    5.  Use algún método predictivo para estimar los datos faltantes de las variables que no consideró eliminar en la parte anterior. (1.5 pts)"
   ],
   "cell_type": "markdown",
   "metadata": {}
  },
  {
   "cell_type": "code",
   "execution_count": null,
   "metadata": {},
   "outputs": [],
   "source": []
  },
  {
   "source": [
    "<h3> Pregunta 3 <h3>\n",
    "\n",
    "(1 pto)\n",
    "\n",
    "Quiere agregar segmentación a su análisis para poder usar características comunes dentro de un grupo como entrada para un modelo predictivo con la tabla.\n",
    "\n",
    "Modifique la versión que tiene con los datos imputados para no sobre estimar alguna variable en su segmentación. Justifique sus cambios."
   ],
   "cell_type": "markdown",
   "metadata": {}
  },
  {
   "cell_type": "code",
   "execution_count": null,
   "metadata": {},
   "outputs": [],
   "source": []
  },
  {
   "source": [
    "<h3> Pregunta 4 </h3>\n",
    "\n",
    "(1 pto)\n",
    "\n",
    "Use algún método de selección de atributos para determinar un subconjunto de variables para explicar la variable <i> Permit slack </i> y justifique su elección de las variables a no considerar."
   ],
   "cell_type": "markdown",
   "metadata": {}
  },
  {
   "cell_type": "code",
   "execution_count": null,
   "metadata": {},
   "outputs": [],
   "source": []
  }
 ]
}