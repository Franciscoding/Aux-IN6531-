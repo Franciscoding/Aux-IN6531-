{
 "metadata": {
  "language_info": {
   "codemirror_mode": {
    "name": "ipython",
    "version": 3
   },
   "file_extension": ".py",
   "mimetype": "text/x-python",
   "name": "python",
   "nbconvert_exporter": "python",
   "pygments_lexer": "ipython3",
   "version": 3
  },
  "orig_nbformat": 2
 },
 "nbformat": 4,
 "nbformat_minor": 2,
 "cells": [
  {
   "source": [
    "<h1> Aux 2 - Pre procesamiento de datos </h1>\n",
    "\n",
    "<h2> 1. Agrupaciones y uniones para formato de data plana </h2>\n",
    "\n",
    "Generalmente con mayor volumen de data, esta se encuentra almacenada en:\n",
    "- Bases de datos relacionales (MYSQL, POSTGRESQL)\n",
    "- Datalakes (logs formato json en algún formato no estructurado)\n",
    "- Formatos especificos de software \n",
    "\n",
    "Para hacer análisis de datos y obtener información de los datos es necesario (dentro del curso) tener un formato \"plano\" \n",
    "columnas -> variables\n",
    "filas -> observaciones\n",
    "\n",
    "Si tenemos datos que no están en este formato debemos unir, seleccionar y agregar según sea necesario para llegar a un formato plano.\n",
    "\n",
    "<h2> 2. Eliminar errores, omisiones y campos que no aporten información </h2>\n",
    "\n",
    "<h3> Cómo darse cuenta de este tipo de errores </h3>\n",
    "\n",
    "Verificar que los datos utilizados sean representativos de la realidad que se quiere estudiar\n",
    "\n",
    "<h3> Qué hacer una vez que tenemos identificado las falencias de los datos </h3>\n",
    "\n",
    "- Eliminar variables\n",
    "- Eliminar observaciones\n",
    "- Imputar los datos faltantes o errados\n",
    "\n",
    "<h2> 3.    Transformaciones de datos </h2>\n",
    "\n",
    "-   Cómo la escala de los datos puede sesgar los métodos empleados\n",
    "-   Hacer datos en distintas dimensiones comparables."
   ],
   "cell_type": "markdown",
   "metadata": {}
  },
  {
   "cell_type": "code",
   "execution_count": null,
   "metadata": {},
   "outputs": [],
   "source": [
    "import pandas as pd\n"
   ]
  }
 ]
}